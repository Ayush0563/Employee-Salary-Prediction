{
  "nbformat": 4,
  "nbformat_minor": 0,
  "metadata": {
    "colab": {
      "provenance": []
    },
    "kernelspec": {
      "name": "python3",
      "display_name": "Python 3"
    },
    "language_info": {
      "name": "python"
    }
  },
  "cells": [
    {
      "cell_type": "code",
      "source": [
        "!pip install streamlit --quiet\n",
        "!npm install -g localtunnel\n"
      ],
      "metadata": {
        "colab": {
          "base_uri": "https://localhost:8080/"
        },
        "id": "-iOsco3NdsuM",
        "outputId": "6e9ba288-99cb-4cab-e921-cb6896873775"
      },
      "execution_count": 1,
      "outputs": [
        {
          "output_type": "stream",
          "name": "stdout",
          "text": [
            "\u001b[1G\u001b[0K⠙\u001b[1G\u001b[0K⠹\u001b[1G\u001b[0K⠸\u001b[1G\u001b[0K⠼\u001b[1G\u001b[0K⠴\u001b[1G\u001b[0K⠦\u001b[1G\u001b[0K\n",
            "changed 22 packages in 842ms\n",
            "\u001b[1G\u001b[0K⠦\u001b[1G\u001b[0K\n",
            "\u001b[1G\u001b[0K⠦\u001b[1G\u001b[0K3 packages are looking for funding\n",
            "\u001b[1G\u001b[0K⠦\u001b[1G\u001b[0K  run `npm fund` for details\n",
            "\u001b[1G\u001b[0K⠦\u001b[1G\u001b[0K"
          ]
        }
      ]
    },
    {
      "cell_type": "code",
      "execution_count": 2,
      "metadata": {
        "colab": {
          "base_uri": "https://localhost:8080/"
        },
        "id": "M4Tzc0CQbtq3",
        "outputId": "8e415a6b-e43d-4d04-d62a-22a623954b88"
      },
      "outputs": [
        {
          "output_type": "stream",
          "name": "stdout",
          "text": [
            "Overwriting app.py\n"
          ]
        }
      ],
      "source": [
        "%%writefile app.py\n",
        "import streamlit as st\n",
        "import joblib\n",
        "import numpy as np\n",
        "import pandas as pd\n",
        "\n",
        "st.set_page_config(page_title=\"Employee Salary Prediction\", layout=\"centered\")\n",
        "\n",
        "# Load the trained model (make sure the file exists!)\n",
        "model = joblib.load('/content/salary_prediction_model.pkl')\n",
        "\n",
        "st.title(\"Employee Salary Prediction\")\n",
        "st.markdown(\"Enter employee information:\")\n",
        "\n",
        "# Example categories; replace with real ones used in training\n",
        "workclass_options = ['Private', 'Self-emp', 'Government', 'Unknown']\n",
        "education_options = ['HS-grad', 'Bachelors', 'Masters', 'Doctorate', 'Unknown']\n",
        "marital_status_options = ['Never-married', 'Married', 'Divorced', 'Separated', 'Widowed', 'Unknown']\n",
        "\n",
        "# Collect inputs\n",
        "age = st.number_input('Age', min_value=18, max_value=100, value=30)\n",
        "workclass = st.selectbox('Workclass', options=workclass_options)\n",
        "education = st.selectbox('Education', options=education_options)\n",
        "marital_status = st.selectbox('Marital Status', options=marital_status_options)\n",
        "# Add any more fields below that your model expects\n",
        "\n",
        "# Build DataFrame for one sample\n",
        "input_dict = {\n",
        "    'age': [age],\n",
        "    'workclass': [workclass],\n",
        "    'education': [education],\n",
        "    'marital-status': [marital_status],\n",
        "    # Add/modify fields here as per your model!\n",
        "}\n",
        "input_data = pd.DataFrame(input_dict)\n",
        "\n",
        "# PREPROCESS if label encoders or other transforms were used\n",
        "# Example: input_data['workclass'] = workclass_le.transform(input_data['workclass'])\n",
        "# If you saved encoders, load and apply them here\n",
        "\n",
        "if st.button('Predict Salary Category'):\n",
        "    pred = model.predict(input_data)\n",
        "    st.success(\"Predicted Salary: >50K\" if pred[0] == 1 else \"Predicted Salary: <=50K\")\n"
      ]
    },
    {
      "cell_type": "code",
      "source": [
        "!streamlit run app.py &>/content/logs.txt &\n"
      ],
      "metadata": {
        "id": "o0Ou5SrSe9Hx"
      },
      "execution_count": 4,
      "outputs": []
    },
    {
      "cell_type": "code",
      "source": [
        "!lt --port 8501\n"
      ],
      "metadata": {
        "colab": {
          "base_uri": "https://localhost:8080/"
        },
        "id": "mwiGtFJ6d4_Z",
        "outputId": "b3f14ed6-ae3b-4fef-9f51-ae0d7d9cc893"
      },
      "execution_count": 5,
      "outputs": [
        {
          "output_type": "stream",
          "name": "stdout",
          "text": [
            "your url is: https://khaki-taxis-wash.loca.lt\n",
            "^C\n"
          ]
        }
      ]
    },
    {
      "cell_type": "code",
      "source": [],
      "metadata": {
        "id": "fLsR80cbfIDv"
      },
      "execution_count": null,
      "outputs": []
    }
  ]
}